{
 "cells": [
  {
   "cell_type": "code",
   "execution_count": 63,
   "metadata": {},
   "outputs": [
    {
     "name": "stderr",
     "output_type": "stream",
     "text": [
      "[nltk_data] Downloading package punkt to\n",
      "[nltk_data]     /Users/marlonfacey/nltk_data...\n",
      "[nltk_data]   Package punkt is already up-to-date!\n"
     ]
    }
   ],
   "source": [
    "import numpy as np \n",
    "import pandas as pd \n",
    "import nltk\n",
    "nltk.download('punkt')\n",
    "from nltk.tokenize import word_tokenize\n",
    "from gensim.models.doc2vec import Doc2Vec, TaggedDocument\n",
    "from sklearn.cluster import KMeans\n",
    "from sklearn.metrics.pairwise import cosine_similarity"
   ]
  },
  {
   "cell_type": "code",
   "execution_count": 2,
   "metadata": {},
   "outputs": [],
   "source": [
    "reviews=pd.read_csv(\"austin_reviews.csv\")"
   ]
  },
  {
   "cell_type": "code",
   "execution_count": 17,
   "metadata": {},
   "outputs": [],
   "source": [
    "reviews\n",
    "reviews = reviews.dropna(axis=0, subset=['comments'])"
   ]
  },
  {
   "cell_type": "code",
   "execution_count": 38,
   "metadata": {},
   "outputs": [
    {
     "data": {
      "text/plain": [
       "324348"
      ]
     },
     "execution_count": 38,
     "metadata": {},
     "output_type": "execute_result"
    }
   ],
   "source": [
    "len(reviews)"
   ]
  },
  {
   "cell_type": "code",
   "execution_count": 18,
   "metadata": {},
   "outputs": [],
   "source": [
    "# Read more data in\n",
    "# import glob\n",
    "\n",
    "# all_files = glob.glob(\"austin_reviews_2021_2019\"+\"/*.csv\")\n",
    "# li = []\n",
    "# all_files[0]\n",
    "# for filename in all_files:\n",
    "#     df = pd.read_csv(filename)\n",
    "#     li.append(df)\n",
    "# listings_all = pd.concat(li, axis=0, ignore_index=True)"
   ]
  },
  {
   "cell_type": "code",
   "execution_count": 98,
   "metadata": {},
   "outputs": [],
   "source": [
    "tokenized_reviews = []\n",
    "for review in reviews['comments'][:50000]:\n",
    "    tokenized_reviews.append(word_tokenize(review.lower()))\n",
    "\n",
    "tagged_data = [TaggedDocument(d, [i]) for i, d in enumerate(tokenized_reviews)]"
   ]
  },
  {
   "cell_type": "code",
   "execution_count": 124,
   "metadata": {},
   "outputs": [],
   "source": [
    "d2v_model = Doc2Vec(tagged_data, vector_size = 256, window = 10, min_count = 1, epochs = 100)"
   ]
  },
  {
   "cell_type": "code",
   "execution_count": 125,
   "metadata": {},
   "outputs": [
    {
     "data": {
      "text/plain": [
       "[(0, 0.8040343523025513),\n",
       " (6029, 0.5176122784614563),\n",
       " (27972, 0.49575546383857727),\n",
       " (11510, 0.4631976783275604),\n",
       " (32741, 0.4590195119380951),\n",
       " (643, 0.45842665433883667),\n",
       " (36323, 0.4422696828842163),\n",
       " (9766, 0.44159334897994995),\n",
       " (36068, 0.432508260011673),\n",
       " (8167, 0.4319043755531311)]"
      ]
     },
     "execution_count": 125,
     "metadata": {},
     "output_type": "execute_result"
    }
   ],
   "source": [
    "# See similar reviews to the first review\n",
    "test_doc = word_tokenize(reviews['comments'].iloc[0].lower())\n",
    "test_doc_vector = d2v_model.infer_vector(test_doc)\n",
    "closest_rev_idx = [i[0] for i in d2v_model.dv.most_similar(positive = [test_doc_vector])]\n",
    "d2v_model.dv.most_similar(positive = [test_doc_vector])"
   ]
  },
  {
   "cell_type": "code",
   "execution_count": 126,
   "metadata": {},
   "outputs": [
    {
     "name": "stdout",
     "output_type": "stream",
     "text": [
      "I stayed here during SXSW and had a really pleasant stay.  The house is a very relaxing environment and Paddy is both a friendly and professional host. \n",
      "\n",
      "I stayed here during SXSW and had a really pleasant stay.  The house is a very relaxing environment and Paddy is both a friendly and professional host. \n",
      "\n",
      "Alyson was very cordial and went above and beyond my expectations.  It's a must stay if you are in the Austin area.  Thanks Alyson!\r\n",
      "\n",
      "\n",
      "The space is great for 1-2 travelers. I really liked the kitchen amenities and cutlery. You have all the utensils needed to prepare a meal. There's a stove-top, oven and toaster. The space is clean and efficient. One thing to keep in mind is the toilet seat is on a 1 foot high pedestal. The shower is also on an 8-inch pedestal and it's super tiny. Not a deal breaker but just something to keep in mind.\n",
      "\n",
      "Transportation is not a problem because the bus stop is literally right outside the door. There are several restaurants about a 5 minute walk away and the nearest supermarket HEB is about a 10 minute walk. All the information you need regarding local tips and house rules are contained in a helpful binder on the coffee table. And if you need anything else Pete is extremely responsive!\n",
      "\n",
      "A great apartment, especially for a large family group. It is attractive too. I'd stay there every time.\n",
      "\n",
      "Excellent small condo within walking distance of downtown and the riverfront!\n",
      "\n",
      "Absolutely wonderful place to stay. David and Elizabeth are both super friendly and helpful and they made me feel really comfortable. Really beautiful, relaxing place i definitely recommend it! \n",
      "\n",
      "Yvonne and Cameron were extremely hospitable and reached out often for assistance. They even made it personal wishing me luck in my interview. The space is just right for a solo traveler or couple. I love that they offer suggestions in the area, and I actually made some good friends at one of the brunch spots suggested. They gave tons of privacy and were so thoughtful in the check in and check out process. Definitely helped in my decision to move to Austin with their kindness. I wished I could live there and rent for ever.\n",
      "\n",
      "Merri Gale and Donald's place was perfect for a bachelorette weekend in Austin! We loved the decor and personal touches throughout the house and Merri Gale was incredibly responsive, really helpful and friendly but never intrusive during our stay. Would definitely recommend this house and these hosts to other visitors to Austin!\n",
      "\n",
      "I stayed here for an 11-week internship at National Instruments. Ben and Lauren were very welcoming, and always ready to hang out. They know a lot about Austin and really helped me get started finding my way around. Lots of knowledge about restaurants around town, and if you want ideas about where to find live music from some of the more under-the-radar local bands, Ben is your guy.\r\n",
      "\r\n",
      "The location is a reasonably short drive from  downtown, and was pretty much perfect for me--my commute to NI was about 10 minutes by car and 25 minutes by bike. There are also some good hole-in-the-wall authentic taquerias/food trucks close by (Taco More is dirt cheap and has delicious goat tacos). Also, Pinballz Arcade is close and a great way to blow some cash. The BYOB policy there is pretty cool as well.\r\n",
      "\r\n",
      "The private bathroom is a big plus.\r\n",
      "\n",
      "\n",
      "Great stay at Dan’s place. Lovely and spacious space which was good for seeing SXSW although a tad far from  the centre of town. Perfect for a couple, with a great kitchen and upstairs area.\n",
      "\n"
     ]
    }
   ],
   "source": [
    "print(reviews['comments'][0] + \"\\n\")\n",
    "for i in range(len(closest_rev_idx)):\n",
    "    print(reviews['comments'][closest_rev_idx[i]] + \"\\n\")\n"
   ]
  },
  {
   "cell_type": "code",
   "execution_count": 127,
   "metadata": {},
   "outputs": [],
   "source": [
    "# Use K means cluster to get 2 clusters\n",
    "k_means_model = KMeans(n_clusters=2, max_iter=1000, random_state=True, n_init=50).fit(X=d2v_model.dv.vectors)\n",
    "positive_cluster_center = k_means_model.cluster_centers_[0]\n",
    "negative_cluster_center = k_means_model.cluster_centers_[1]"
   ]
  },
  {
   "cell_type": "code",
   "execution_count": 128,
   "metadata": {},
   "outputs": [
    {
     "data": {
      "text/plain": [
       "[(36282, 0.9728507399559021),\n",
       " (38204, 0.9706477522850037),\n",
       " (25598, 0.967058539390564),\n",
       " (47438, 0.9666666984558105),\n",
       " (37105, 0.9663744568824768),\n",
       " (2619, 0.9656502604484558),\n",
       " (28488, 0.9653806686401367),\n",
       " (42364, 0.9650701880455017),\n",
       " (36947, 0.9648461937904358),\n",
       " (15976, 0.9636886715888977)]"
      ]
     },
     "execution_count": 128,
     "metadata": {},
     "output_type": "execute_result"
    }
   ],
   "source": [
    "top_clust_0_rev_idx = [i[0] for i in d2v_model.dv.similar_by_vector(k_means_model.cluster_centers_[0], topn=10, restrict_vocab=None)]\n",
    "d2v_model.dv.similar_by_vector(k_means_model.cluster_centers_[0], topn=10, restrict_vocab=None)"
   ]
  },
  {
   "cell_type": "code",
   "execution_count": 129,
   "metadata": {},
   "outputs": [
    {
     "name": "stdout",
     "output_type": "stream",
     "text": [
      "Yvonne & Cameron's Airbnb backyard studio is well-appointed and charming.  It's within walking distance to downtown, and comes with a binder full of recommendations for places to eat and things to do.\n",
      "\n",
      "Unfortunately, I didn't get to meet the hosts in person but assume had there been any problems, they would have been attentive.\n",
      "\n",
      "The neighborhood was a bit more run-down than I'd expected, but I didn't feel unsafe and walked around alone at night without issue.\n",
      "\n",
      "Great place within walking distance from downtown Austin. Clean place, helpful tips about the local area, very accommodating host\n",
      "\n",
      "This studio apartment was very clean and inviting. Perfect for a couples getaway. Cute and artsy. Everything you need for a weekend getaway! Walking distance to cafes and shopping.\n",
      "\n",
      "Gorgeous house that style wise looks very Austin-y with nice decor. There's a separate guest house in the back is very nice with it's own bathroom, two additional bedrooms in the main house share a bathroom. House had everything we needed for a relaxing weekend trip!\n",
      "\n",
      "Steve is my spirit animal.\n",
      "\n",
      "My husband and I had a wonderful stay. This home is very unique and has very thoughtful touches. Lois was an amazing host and super quick to respond. We will definitely stay there again!\n",
      "\n",
      "Troy's place is a cute little place, perfect for a comfortable rest, especially if you plan on exploring the nightlife. Troy's place is not very far at all from downtown and other attractive venues.\n",
      "\n",
      "Great place to stay, Terry was an excellent host and everything was perfectly as advertised. Highly recommend\n",
      "\n",
      "Steve hosted my boyfriend and I in his cottage for free during Hurricane Harvey. He was friendly and came to chat with Erroll and I as we settled in. I was a bit late on checking in and he was very responsive even waited outside for us when we ended up on the wrong street. I am very thankful for Steve and his family having us.\n",
      "\n",
      "Loved our stay! Place was amazing, will be back. Next time spend a little more time on that porch swing \n",
      "\n"
     ]
    }
   ],
   "source": [
    "for i in range(len(top_clust_0_rev_idx)):\n",
    "    print(reviews['comments'][top_clust_0_rev_idx[i]] + \"\\n\")"
   ]
  },
  {
   "cell_type": "code",
   "execution_count": 130,
   "metadata": {},
   "outputs": [
    {
     "data": {
      "text/plain": [
       "[(36947, 0.974404513835907),\n",
       " (41452, 0.973639726638794),\n",
       " (33482, 0.9728446006774902),\n",
       " (16578, 0.9718385934829712),\n",
       " (30519, 0.9703684449195862),\n",
       " (11097, 0.9695250988006592),\n",
       " (32885, 0.9691112041473389),\n",
       " (46738, 0.9688645601272583),\n",
       " (47438, 0.9688200950622559),\n",
       " (47602, 0.967427134513855)]"
      ]
     },
     "execution_count": 130,
     "metadata": {},
     "output_type": "execute_result"
    }
   ],
   "source": [
    "top_clust_1_rev_idx = [i[0] for i in d2v_model.dv.similar_by_vector(k_means_model.cluster_centers_[1], topn=10, restrict_vocab=None)]\n",
    "d2v_model.dv.similar_by_vector(k_means_model.cluster_centers_[1], topn=10, restrict_vocab=None)"
   ]
  },
  {
   "cell_type": "code",
   "execution_count": 131,
   "metadata": {},
   "outputs": [
    {
     "name": "stdout",
     "output_type": "stream",
     "text": [
      "Steve hosted my boyfriend and I in his cottage for free during Hurricane Harvey. He was friendly and came to chat with Erroll and I as we settled in. I was a bit late on checking in and he was very responsive even waited outside for us when we ended up on the wrong street. I am very thankful for Steve and his family having us.\n",
      "\n",
      "Had a good  stay here, lovely apartment and great location with plenty of bars and restaurants close by.\n",
      "\n",
      " Very large comfortable bed and good kitchen if you fancy cooking your own meals. Private off road parking too!  Bathroom has hairdryer and plenty of products and even a bathrobe each,   Very nice touches.\n",
      "\n",
      "Donna's place is incredible! A tranquil and airy refuge that's walkable to downtown. Also close to great local bars, restaurants and shops. Totally safe and secure also. Will stay again!\n",
      "\n",
      "Gigi’s space was wonderful! Comfortable, well appointed, clean, in a great neighborhood and so fun to stay in. The space was larger than I expected and she has such an eye for detail. The furniture and decor was great! She was a wonderful host, made sure to make sure I knew where everything was, and accommodated any needs I had. My little dog had fun playing with Betty and felt right at home. It was a treat to stay there and I hope to be back again soon! Thank you Gigi!\n",
      "\n",
      "I enjoyed my stay at LG's birdnest condo very much.  The photos are very accurate, the bed is comfortable, the condo is tastefully decorated.  The small space is very efficiently arranged & well stocked.  The TV has full cable, which was a nice plus too.  The neighborhood location is central to most anywhere in Austin one might want to go.  Also the immediate area is ideal & feels safe.  Within walking distance there is a food co-op market, restaurants, bars, shops & live theater/ballroom.  The public bus stop is less than a block from the condo as well.  I drove my car so I also appreciated the covered parking.  The neighbors were friendly, but politely quite.  The day I arrived, I had a question about accessing the wireless internet.  Ms. Gomez replied to my question very promptly, then followed up with a phone call as well.  I highly recommend this location.  I even booked an additional night myself.\n",
      "\n",
      "Nice little bird house, felt like I was out in the country in a cabin\n",
      "\n",
      "Kristen was very fast with her responses and made it so easy for us to book a place last minute with our dogs. Great location aswell! Would definitely come back!\n",
      "\n",
      "Jamie and Aja have the cutest spot on the east side, by far!  We were impressed with how clean, spacious, and comfortable the home was.  The architecture is really cool too and reminiscent of a shotgun New Orleans style home...very deep with old wood floors.  My favorite spot was the porch swing up front! The neighborhood is quintessential east Austin...lots of amazing bars, places to eat, things to do. Never a dull moment!! I highly recommend this unique gem of a hideaway and will most definitely return. \n",
      "\n",
      "Gorgeous house that style wise looks very Austin-y with nice decor. There's a separate guest house in the back is very nice with it's own bathroom, two additional bedrooms in the main house share a bathroom. House had everything we needed for a relaxing weekend trip!\n",
      "\n",
      "I stayed here with seven girlfriends, and we all agree that it’s one of our favorite places we’ve ever stayed! The house is beautiful and has tons of board games and an amazing pool for entertainment. Our host was great and even dropped off extra paper towels and toilet paper to make sure we didn’t run out. I’d love to stay here again!\n",
      "\n"
     ]
    }
   ],
   "source": [
    "for i in range(len(top_clust_1_rev_idx)):\n",
    "    print(reviews['comments'][top_clust_1_rev_idx[i]] + \"\\n\")"
   ]
  },
  {
   "cell_type": "code",
   "execution_count": 135,
   "metadata": {},
   "outputs": [
    {
     "data": {
      "text/plain": [
       "array([[0.93016183]], dtype=float32)"
      ]
     },
     "execution_count": 135,
     "metadata": {},
     "output_type": "execute_result"
    }
   ],
   "source": [
    "cosine_similarity(k_means_model.cluster_centers_[0].reshape(1,-1), k_means_model.cluster_centers_[1].reshape(1,-1))"
   ]
  },
  {
   "cell_type": "code",
   "execution_count": 134,
   "metadata": {},
   "outputs": [
    {
     "data": {
      "text/plain": [
       "array([[-0.5986099 , -0.31769603,  0.4995188 ,  0.28278786,  0.17415886,\n",
       "        -0.11144868, -0.7258697 , -0.17304061, -0.20619828,  0.5799234 ,\n",
       "        -0.04509399, -0.3401889 , -0.14011809, -0.11513349,  0.41886052,\n",
       "        -0.12381297, -0.11001544,  0.22070105, -0.15236868,  0.12374677,\n",
       "         0.16093332, -0.17015655, -0.05132321, -0.12652276,  0.05472894,\n",
       "         0.39514834,  0.77896005, -0.32559344,  0.40980738, -0.44987273,\n",
       "        -0.5826855 , -0.2548483 ,  0.1562427 ,  0.06894238,  0.92911476,\n",
       "        -0.12947446, -0.04243828,  0.05539132, -0.3799832 , -0.42401052,\n",
       "         0.6005275 , -0.20597187, -0.09506731,  0.10353265,  0.44307077,\n",
       "        -0.19796014,  0.31660974, -0.5254177 ,  0.96034443,  0.52602947,\n",
       "         0.7290918 , -0.07997223, -0.3109342 , -0.58486176, -0.14334117,\n",
       "         0.48111847, -0.7171643 ,  0.69819254,  0.00287792,  0.8008081 ,\n",
       "         0.07767388,  0.36005935,  0.744768  ,  0.01837945, -0.01578468,\n",
       "        -0.1760636 , -0.25540644, -0.14532836,  0.09025989, -0.37629724,\n",
       "         0.01702442, -0.05675506, -0.00697154, -0.6728779 ,  0.04633501,\n",
       "         0.6510268 , -0.12310433, -0.06841195,  0.0308638 ,  0.47702095,\n",
       "        -0.7204602 , -0.09024213, -0.46257436,  0.20161048,  0.5200687 ,\n",
       "         0.22064047,  0.20548962, -0.13246137, -0.28593755,  0.25488016,\n",
       "         0.11904421,  0.07429653,  0.5817941 , -0.539087  ,  0.38739443,\n",
       "         1.0156965 , -0.13171044, -0.06038443,  0.00215148,  0.47390082,\n",
       "        -0.46076283,  0.24743004, -0.4584813 ,  0.42707863, -0.24176171,\n",
       "         0.15839097, -0.33237407,  0.08123909,  0.34505552,  0.06443131,\n",
       "         0.08322896, -0.73806727,  0.17018431,  0.4930579 , -0.56187177,\n",
       "         0.39743984, -0.26715514,  0.06213413, -0.11071675,  0.55555564,\n",
       "        -0.36168617,  0.14613488, -0.16014473, -0.13704915, -0.00393215,\n",
       "        -0.16332358, -0.01156715, -0.51648   ,  0.04129817,  0.27810493,\n",
       "         0.655453  , -0.2815764 , -0.19133449,  0.06183095,  0.17229484,\n",
       "         0.18542203, -0.565849  ,  0.12910852, -0.4612695 , -0.24376848,\n",
       "         0.0471224 , -0.3081735 ,  0.2956327 ,  0.04056131, -0.27966595,\n",
       "        -0.9175789 , -0.197202  ,  0.8233235 ,  0.34875116, -0.08748493,\n",
       "        -0.02228666, -0.3053515 , -0.2839626 , -0.01739742, -0.58999014,\n",
       "         0.2142967 ,  0.05474622, -0.7078694 , -0.39550474,  0.3239124 ,\n",
       "         0.5161545 ,  0.2475234 , -0.28530896, -0.265083  ,  0.5031647 ,\n",
       "        -0.3073494 , -0.5746781 ,  1.0923537 , -0.5779116 ,  0.03825802,\n",
       "         0.6593078 ,  0.03490135, -0.47444203,  0.2610791 , -0.14500335,\n",
       "        -0.02066219,  0.20733266,  0.0354111 , -0.43105984,  0.5345178 ,\n",
       "        -0.6171398 ,  0.01849042,  0.3395474 , -0.71310127, -0.29189986,\n",
       "         0.45559692, -0.39048776, -0.06093751, -0.06879959, -0.22780229,\n",
       "         0.36537832,  0.2709388 ,  0.03407148, -0.3251517 ,  0.32777944,\n",
       "        -0.41039115,  0.35009745, -0.39367408, -0.35763904, -0.11401862,\n",
       "         0.5218202 , -0.11502527, -0.03273978, -0.54262364, -0.9408863 ,\n",
       "         0.13934939, -0.43663803, -0.53102905,  0.13296704, -0.11383659,\n",
       "         0.40505618,  0.04973144,  0.709154  ,  0.12392649, -0.59086984,\n",
       "        -0.45772368,  0.47676826, -0.4817831 ,  0.01688475, -0.32379282,\n",
       "         0.10119812, -0.01393468, -0.2646749 ,  0.05984261, -0.23007242,\n",
       "         0.04872557,  0.12018096,  0.61715925, -0.36102778,  0.4902111 ,\n",
       "         0.23159494, -0.6470974 ,  0.05788955,  0.1656777 ,  0.29086754,\n",
       "         0.7204353 ,  0.21764004,  0.05823112, -0.29359433, -0.10796021,\n",
       "        -0.02864003, -0.30517378,  0.28470933, -0.07669543, -0.9153842 ,\n",
       "         0.31213236,  0.14895052,  0.38362968,  0.33288053, -0.03883544,\n",
       "         0.65845615, -0.35932243, -0.32118726, -0.7250889 , -0.7355121 ,\n",
       "         0.5476306 ],\n",
       "       [-0.6316461 , -0.11874501,  0.45456436,  0.25943854, -0.07281984,\n",
       "        -0.07431113, -0.52522045,  0.07468643, -0.17770588,  0.26049855,\n",
       "         0.13771302, -0.23736712, -0.076334  ,  0.05066135,  0.41888234,\n",
       "        -0.13492124, -0.05092075,  0.28247935, -0.12853873,  0.14041275,\n",
       "         0.15984727,  0.09780496,  0.16125768, -0.06812322, -0.04023933,\n",
       "         0.12432084,  0.51301926, -0.20078988,  0.3752618 , -0.56517386,\n",
       "        -0.44862157, -0.16528891,  0.0019041 ,  0.1776551 ,  0.60277593,\n",
       "        -0.10081894,  0.07950079,  0.08122563, -0.31152102, -0.24998814,\n",
       "         0.5203902 , -0.21915859, -0.1141694 , -0.00173236,  0.23700327,\n",
       "        -0.14598054,  0.08021365, -0.4834787 ,  0.7388591 ,  0.33523273,\n",
       "         0.59429973, -0.15420236, -0.25001535, -0.46293223,  0.07200262,\n",
       "         0.3965895 , -0.572319  ,  0.6053723 ,  0.11787518,  0.38283265,\n",
       "         0.40232652,  0.22616965,  0.4046555 ,  0.02695261,  0.04391844,\n",
       "        -0.15128796, -0.3436733 , -0.41572934,  0.02772106, -0.282265  ,\n",
       "         0.12903488, -0.08906884, -0.10662654, -0.43707258,  0.07370858,\n",
       "         0.6073339 ,  0.13670823, -0.07945622,  0.09977762,  0.2895401 ,\n",
       "        -0.23627086, -0.17903273, -0.45999002,  0.15740128,  0.42366466,\n",
       "         0.22691229,  0.17656456,  0.00529664, -0.13050133,  0.11931632,\n",
       "        -0.00776172, -0.0920454 ,  0.378142  , -0.226151  ,  0.25709882,\n",
       "         0.727242  , -0.06125593, -0.15464824, -0.00203864,  0.34218618,\n",
       "        -0.40579244,  0.03873821, -0.2651446 ,  0.39554504, -0.06619012,\n",
       "         0.0892273 , -0.17169464, -0.00609604,  0.14569543, -0.1616092 ,\n",
       "        -0.1462313 , -0.44823387,  0.03477794,  0.35048157, -0.29309335,\n",
       "         0.37960708, -0.38671193,  0.04654298, -0.2016738 ,  0.426947  ,\n",
       "        -0.3583481 ,  0.08564183, -0.27780715, -0.04408101,  0.18971339,\n",
       "        -0.2309237 , -0.07987185, -0.74657094,  0.11609332,  0.32412887,\n",
       "         0.63118243, -0.2568763 , -0.1058802 ,  0.0599359 ,  0.18952845,\n",
       "         0.24456553, -0.3273963 ,  0.04115618, -0.5271326 , -0.12940305,\n",
       "         0.04513594, -0.3435158 , -0.0744964 , -0.02356567, -0.20417581,\n",
       "        -0.521863  , -0.15455037,  0.58475804,  0.07817762, -0.38066638,\n",
       "         0.07561873, -0.16132846, -0.0179274 , -0.02653643, -0.49909878,\n",
       "         0.16556518, -0.03180432, -0.44752097, -0.31148863,  0.11717873,\n",
       "         0.4493881 ,  0.18419054, -0.23363699, -0.40544525,  0.21078214,\n",
       "        -0.2398505 , -0.24404866,  0.7084716 , -0.36110753,  0.07399974,\n",
       "         0.5235252 ,  0.05241624, -0.4909786 ,  0.15349896, -0.01064851,\n",
       "        -0.0452496 , -0.11203697, -0.02367786, -0.527433  ,  0.6497101 ,\n",
       "        -0.3984843 ,  0.01323506,  0.13028261, -0.64071435, -0.3354471 ,\n",
       "         0.45720506, -0.15935783,  0.13190162,  0.08878849, -0.1507582 ,\n",
       "         0.28059858,  0.24784033, -0.04762185, -0.26080734,  0.1721475 ,\n",
       "        -0.31060004,  0.47244686, -0.09500856, -0.37320226, -0.06917729,\n",
       "         0.5981499 , -0.04043309, -0.12376294, -0.44031888, -0.7566777 ,\n",
       "         0.10183434, -0.30576235, -0.33786955, -0.00777144, -0.07457335,\n",
       "         0.26184872,  0.12703341,  0.61104506,  0.09705403, -0.5548348 ,\n",
       "        -0.24928033,  0.23736298, -0.44970617,  0.11979095, -0.38076037,\n",
       "         0.15404357, -0.06991842, -0.29013658,  0.02887307, -0.16035801,\n",
       "         0.0393242 ,  0.2265829 ,  0.28810748, -0.38397714,  0.3514565 ,\n",
       "         0.26259136, -0.5583475 , -0.08324133,  0.1792392 ,  0.19650811,\n",
       "         0.36240017,  0.29204383,  0.09544991, -0.24785027, -0.14957352,\n",
       "         0.07510944, -0.1639294 ,  0.15760383,  0.02316329, -0.5877176 ,\n",
       "         0.26248026, -0.17188454,  0.34352592,  0.28057083, -0.12969434,\n",
       "         0.6185804 , -0.35925663, -0.25226542, -0.6119899 , -0.4305699 ,\n",
       "         0.47874182]], dtype=float32)"
      ]
     },
     "execution_count": 134,
     "metadata": {},
     "output_type": "execute_result"
    }
   ],
   "source": [
    "k_means_model.cluster_centers_"
   ]
  },
  {
   "cell_type": "code",
   "execution_count": null,
   "metadata": {},
   "outputs": [],
   "source": [
    "review_scores = pd.DataFrame(d2v_model.dv.vocab.keys())\n",
    "review_scores.columns = ['reviews']\n",
    "# review_scores['vectors'] = review_scores.words.apply(lambda x: word_vectors.wv[f'{x}'])\n",
    "# review_scroes['cluster'] = words.vectors.apply(lambda x: model.predict([np.array(x)]))\n",
    "# review_scores.cluster = words.cluster.apply(lambda x: x[0])\n",
    "# review_scores['cluster_value'] = [1 if i==0 else -1 for i in words.cluster]\n",
    "# review_scores['closeness_score'] = words.apply(lambda x: 1/(model.transform([x.vectors]).min()), axis=1)\n",
    "# review_scores['sentiment_coeff'] = words.closeness_score * words.cluster_value\n",
    "review_scores"
   ]
  }
 ],
 "metadata": {
  "kernelspec": {
   "display_name": "Python 3",
   "language": "python",
   "name": "python3"
  },
  "language_info": {
   "codemirror_mode": {
    "name": "ipython",
    "version": 3
   },
   "file_extension": ".py",
   "mimetype": "text/x-python",
   "name": "python",
   "nbconvert_exporter": "python",
   "pygments_lexer": "ipython3",
   "version": "3.7.6"
  }
 },
 "nbformat": 4,
 "nbformat_minor": 4
}
