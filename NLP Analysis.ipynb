{
 "cells": [
  {
   "cell_type": "code",
   "execution_count": 63,
   "metadata": {},
   "outputs": [
    {
     "name": "stderr",
     "output_type": "stream",
     "text": [
      "[nltk_data] Downloading package punkt to\n",
      "[nltk_data]     /Users/marlonfacey/nltk_data...\n",
      "[nltk_data]   Package punkt is already up-to-date!\n"
     ]
    }
   ],
   "source": [
    "import numpy as np \n",
    "import pandas as pd \n",
    "import nltk\n",
    "nltk.download('punkt')\n",
    "from nltk.tokenize import word_tokenize\n",
    "from gensim.models.doc2vec import Doc2Vec, TaggedDocument\n",
    "from sklearn.cluster import KMeans\n",
    "from sklearn.metrics.pairwise import cosine_similarity"
   ]
  },
  {
   "cell_type": "code",
   "execution_count": 2,
   "metadata": {},
   "outputs": [],
   "source": [
    "reviews=pd.read_csv(\"austin_reviews.csv\")"
   ]
  },
  {
   "cell_type": "code",
   "execution_count": 203,
   "metadata": {},
   "outputs": [],
   "source": [
    "reviews\n",
    "reviews = reviews.dropna(axis=0, subset=['comments'])"
   ]
  },
  {
   "cell_type": "code",
   "execution_count": 204,
   "metadata": {},
   "outputs": [
    {
     "data": {
      "text/html": [
       "<div>\n",
       "<style scoped>\n",
       "    .dataframe tbody tr th:only-of-type {\n",
       "        vertical-align: middle;\n",
       "    }\n",
       "\n",
       "    .dataframe tbody tr th {\n",
       "        vertical-align: top;\n",
       "    }\n",
       "\n",
       "    .dataframe thead th {\n",
       "        text-align: right;\n",
       "    }\n",
       "</style>\n",
       "<table border=\"1\" class=\"dataframe\">\n",
       "  <thead>\n",
       "    <tr style=\"text-align: right;\">\n",
       "      <th></th>\n",
       "      <th>listing_id</th>\n",
       "      <th>id</th>\n",
       "      <th>date</th>\n",
       "      <th>reviewer_id</th>\n",
       "      <th>reviewer_name</th>\n",
       "      <th>comments</th>\n",
       "      <th>Polarity</th>\n",
       "      <th>Subjectivity</th>\n",
       "    </tr>\n",
       "  </thead>\n",
       "  <tbody>\n",
       "    <tr>\n",
       "      <th>0</th>\n",
       "      <td>2265</td>\n",
       "      <td>963</td>\n",
       "      <td>2009-03-17</td>\n",
       "      <td>7538</td>\n",
       "      <td>Niall</td>\n",
       "      <td>I stayed here during SXSW and had a really ple...</td>\n",
       "      <td>0.352083</td>\n",
       "      <td>0.466667</td>\n",
       "    </tr>\n",
       "    <tr>\n",
       "      <th>1</th>\n",
       "      <td>2265</td>\n",
       "      <td>1057</td>\n",
       "      <td>2009-03-22</td>\n",
       "      <td>10029</td>\n",
       "      <td>Michael</td>\n",
       "      <td>Great place, close enough to everything downto...</td>\n",
       "      <td>0.307407</td>\n",
       "      <td>0.653704</td>\n",
       "    </tr>\n",
       "    <tr>\n",
       "      <th>2</th>\n",
       "      <td>2265</td>\n",
       "      <td>200418</td>\n",
       "      <td>2011-03-16</td>\n",
       "      <td>61677</td>\n",
       "      <td>Gustaf</td>\n",
       "      <td>We had a great time in Austin staying at Paddy...</td>\n",
       "      <td>0.255333</td>\n",
       "      <td>0.432000</td>\n",
       "    </tr>\n",
       "    <tr>\n",
       "      <th>3</th>\n",
       "      <td>2265</td>\n",
       "      <td>1001630</td>\n",
       "      <td>2012-03-15</td>\n",
       "      <td>1523753</td>\n",
       "      <td>Noah</td>\n",
       "      <td>We had a great stay at Zen East for South By S...</td>\n",
       "      <td>0.399150</td>\n",
       "      <td>0.745578</td>\n",
       "    </tr>\n",
       "    <tr>\n",
       "      <th>4</th>\n",
       "      <td>2265</td>\n",
       "      <td>1016390</td>\n",
       "      <td>2012-03-19</td>\n",
       "      <td>1547660</td>\n",
       "      <td>Melissa</td>\n",
       "      <td>I arrived late in the evening so did not meet ...</td>\n",
       "      <td>0.369444</td>\n",
       "      <td>0.681481</td>\n",
       "    </tr>\n",
       "    <tr>\n",
       "      <th>...</th>\n",
       "      <td>...</td>\n",
       "      <td>...</td>\n",
       "      <td>...</td>\n",
       "      <td>...</td>\n",
       "      <td>...</td>\n",
       "      <td>...</td>\n",
       "      <td>...</td>\n",
       "      <td>...</td>\n",
       "    </tr>\n",
       "    <tr>\n",
       "      <th>324568</th>\n",
       "      <td>47385871</td>\n",
       "      <td>721972440</td>\n",
       "      <td>2021-01-04</td>\n",
       "      <td>90722031</td>\n",
       "      <td>RYan</td>\n",
       "      <td>College area. but quick access to everything</td>\n",
       "      <td>0.333333</td>\n",
       "      <td>0.500000</td>\n",
       "    </tr>\n",
       "    <tr>\n",
       "      <th>324569</th>\n",
       "      <td>47411972</td>\n",
       "      <td>723017845</td>\n",
       "      <td>2021-01-09</td>\n",
       "      <td>125176457</td>\n",
       "      <td>Paul</td>\n",
       "      <td>Really loved staying here— I’m an Austin nativ...</td>\n",
       "      <td>0.367961</td>\n",
       "      <td>0.605795</td>\n",
       "    </tr>\n",
       "    <tr>\n",
       "      <th>324570</th>\n",
       "      <td>47411972</td>\n",
       "      <td>724050419</td>\n",
       "      <td>2021-01-13</td>\n",
       "      <td>280491070</td>\n",
       "      <td>Shanté</td>\n",
       "      <td>Kylen’s place was great! Communication was a b...</td>\n",
       "      <td>0.541667</td>\n",
       "      <td>0.783333</td>\n",
       "    </tr>\n",
       "    <tr>\n",
       "      <th>324571</th>\n",
       "      <td>47430860</td>\n",
       "      <td>723717982</td>\n",
       "      <td>2021-01-11</td>\n",
       "      <td>136891080</td>\n",
       "      <td>Roderick</td>\n",
       "      <td>I’ve been using Airbnb for more years with ple...</td>\n",
       "      <td>0.385897</td>\n",
       "      <td>0.557692</td>\n",
       "    </tr>\n",
       "    <tr>\n",
       "      <th>324572</th>\n",
       "      <td>47516266</td>\n",
       "      <td>723710938</td>\n",
       "      <td>2021-01-11</td>\n",
       "      <td>319670157</td>\n",
       "      <td>Patrick</td>\n",
       "      <td>Great value and location !</td>\n",
       "      <td>1.000000</td>\n",
       "      <td>0.750000</td>\n",
       "    </tr>\n",
       "  </tbody>\n",
       "</table>\n",
       "<p>324348 rows × 8 columns</p>\n",
       "</div>"
      ],
      "text/plain": [
       "        listing_id         id        date  reviewer_id reviewer_name  \\\n",
       "0             2265        963  2009-03-17         7538         Niall   \n",
       "1             2265       1057  2009-03-22        10029       Michael   \n",
       "2             2265     200418  2011-03-16        61677        Gustaf   \n",
       "3             2265    1001630  2012-03-15      1523753          Noah   \n",
       "4             2265    1016390  2012-03-19      1547660       Melissa   \n",
       "...            ...        ...         ...          ...           ...   \n",
       "324568    47385871  721972440  2021-01-04     90722031          RYan   \n",
       "324569    47411972  723017845  2021-01-09    125176457          Paul   \n",
       "324570    47411972  724050419  2021-01-13    280491070        Shanté   \n",
       "324571    47430860  723717982  2021-01-11    136891080      Roderick   \n",
       "324572    47516266  723710938  2021-01-11    319670157       Patrick   \n",
       "\n",
       "                                                 comments  Polarity  \\\n",
       "0       I stayed here during SXSW and had a really ple...  0.352083   \n",
       "1       Great place, close enough to everything downto...  0.307407   \n",
       "2       We had a great time in Austin staying at Paddy...  0.255333   \n",
       "3       We had a great stay at Zen East for South By S...  0.399150   \n",
       "4       I arrived late in the evening so did not meet ...  0.369444   \n",
       "...                                                   ...       ...   \n",
       "324568       College area. but quick access to everything  0.333333   \n",
       "324569  Really loved staying here— I’m an Austin nativ...  0.367961   \n",
       "324570  Kylen’s place was great! Communication was a b...  0.541667   \n",
       "324571  I’ve been using Airbnb for more years with ple...  0.385897   \n",
       "324572                         Great value and location !  1.000000   \n",
       "\n",
       "        Subjectivity  \n",
       "0           0.466667  \n",
       "1           0.653704  \n",
       "2           0.432000  \n",
       "3           0.745578  \n",
       "4           0.681481  \n",
       "...              ...  \n",
       "324568      0.500000  \n",
       "324569      0.605795  \n",
       "324570      0.783333  \n",
       "324571      0.557692  \n",
       "324572      0.750000  \n",
       "\n",
       "[324348 rows x 8 columns]"
      ]
     },
     "execution_count": 204,
     "metadata": {},
     "output_type": "execute_result"
    }
   ],
   "source": [
    "reviews"
   ]
  },
  {
   "cell_type": "code",
   "execution_count": 195,
   "metadata": {},
   "outputs": [
    {
     "name": "stderr",
     "output_type": "stream",
     "text": [
      "/Users/marlonfacey/anaconda3/lib/python3.7/site-packages/ipykernel_launcher.py:3: SettingWithCopyWarning: \n",
      "A value is trying to be set on a copy of a slice from a DataFrame.\n",
      "Try using .loc[row_indexer,col_indexer] = value instead\n",
      "\n",
      "See the caveats in the documentation: https://pandas.pydata.org/pandas-docs/stable/user_guide/indexing.html#returning-a-view-versus-a-copy\n",
      "  This is separate from the ipykernel package so we can avoid doing imports until\n",
      "/Users/marlonfacey/anaconda3/lib/python3.7/site-packages/ipykernel_launcher.py:4: SettingWithCopyWarning: \n",
      "A value is trying to be set on a copy of a slice from a DataFrame.\n",
      "Try using .loc[row_indexer,col_indexer] = value instead\n",
      "\n",
      "See the caveats in the documentation: https://pandas.pydata.org/pandas-docs/stable/user_guide/indexing.html#returning-a-view-versus-a-copy\n",
      "  after removing the cwd from sys.path.\n"
     ]
    }
   ],
   "source": [
    "from textblob import TextBlob\n",
    "temp = list(map(lambda x: TextBlob(x).sentiment, reviews['comments'].astype(str)))\n",
    "reviews['Polarity'] = list(map(lambda x: x.polarity, temp))\n",
    "reviews['Subjectivity'] = list(map(lambda x: x.subjectivity, temp))"
   ]
  },
  {
   "cell_type": "code",
   "execution_count": 234,
   "metadata": {},
   "outputs": [],
   "source": [
    "revs_class = reviews[:100000]['Polarity'] < 0\n",
    "neg_revs_idx = [i for i, x in enumerate(revs_class) if x]\n",
    "neg_revs = [reviews.iloc[i] for i in neg_revs_idx]\n"
   ]
  },
  {
   "cell_type": "code",
   "execution_count": 236,
   "metadata": {},
   "outputs": [
    {
     "name": "stdout",
     "output_type": "stream",
     "text": [
      "Paddy was extremely responsive and accommodating. We would definitely stay again!\n",
      "\n",
      "I can't say anything about the hospitality, as I never made it down to Texas.  I missed my flight due to winter weather conditions.  Sylvia didn't refund any of the cost.  \n",
      "\n",
      "the house was a good value. the weather was crazy cold which had nothing to do with the host but it did color our experience as the house was freezing cold and nothing seemed to help. we used a space heater and the house had electrical problems so that worked occasionally. the internet was down 5 of 6 days so it was very difficult to do business. \r\n",
      "hosts were responsive and helpful. \n",
      "\n",
      "My teenage daughter, Kailey, and I have always stayed at hotels but this time we decided to try airbnd and save some money on hotel accomodations. Kailey initially though it was a bad idea to stay in a \"stranger's\" home and she thought it would feel \"creepy.\" But, after we walked into the home and met Elizabeth and David we both felt \"at home.\" They had a very nice, comfortable home and everything was cozy. Kailey wants us to use airbnb again whenever we travel. It cretainly beats staying in a cold, overpriced hotel. Next time we are in Austin, we will book with Elizabeth and David. \n",
      "\n",
      "Elizabeth and David were personable, attentive, accommodating, and responsive to my needs. They seem to genuinely enjoy hosting airbnb guests. This was a last-minute stay right after the worst of the central Texas flooding; Elizabeth helped me work around the weather and was flexible about my arrival time, and David gave me some tips on routes to avoid the worst of Austin's traffic. I appreciate their generosity, enthusiasm, and interest in providing a good experience for their guests. \n",
      "\n"
     ]
    }
   ],
   "source": [
    "for i in range(len(neg_revs[:5])):\n",
    "    print(neg_revs[i]['comments'] + '\\n')"
   ]
  },
  {
   "cell_type": "code",
   "execution_count": 38,
   "metadata": {},
   "outputs": [
    {
     "data": {
      "text/plain": [
       "324348"
      ]
     },
     "execution_count": 38,
     "metadata": {},
     "output_type": "execute_result"
    }
   ],
   "source": [
    "len(reviews)"
   ]
  },
  {
   "cell_type": "code",
   "execution_count": 193,
   "metadata": {},
   "outputs": [
    {
     "name": "stdout",
     "output_type": "stream",
     "text": [
      "Cute, industrial loft! Close by a lot of restaurants and things to do downtown (although I wouldn't say it's in a walkable location...while the building felt secure, there were a lot of homeless people right down the street). Building is not very sound insulated, so you definitely hear a lot of street noises. Comfy beds & well stocked with the necessities!\n",
      "\n",
      "We loved Paul and Greta’s place! It was perfect for what we needed for a short Austin getaway. The in-unit laundry was extremely helpful. The on-site secure parking lot was also perfect as we could take short driving trips to meals or sight-see around Austin without worrying about finding/paying for parking when we returned. The 2nd bedroom would make this an ideal unit for a small family with kids to stay in.\n",
      "\n",
      "Place was great.\n",
      "\n",
      "Place is amazing close to everything! Will def be staying here again! Happy I picked this location over others in the area!\n",
      "\n",
      "This place was really cute, comfy and clean, in a location that made it easy to get everywhere we wanted to go.  However, I would not recommend it if you want peace and quiet. Between street noise and really noisy neighbors, we didn't get much sleep. \n",
      "The neighborhood was a bit sketchy, but not terrible. The homeless people mind their business and I felt safe with the locked gate. It was very nice having a dedicated parking spot, though it is a tight squeeze. \n",
      "Overall, we had a nice time staying here, just wish it was a bit quieter \n",
      "\n"
     ]
    }
   ],
   "source": [
    "for review in reviews['comments'][300010:300015]:\n",
    "    print(review + \"\\n\")"
   ]
  },
  {
   "cell_type": "code",
   "execution_count": 18,
   "metadata": {},
   "outputs": [],
   "source": [
    "# Read more data in\n",
    "# import glob\n",
    "\n",
    "# all_files = glob.glob(\"austin_reviews_2021_2019\"+\"/*.csv\")\n",
    "# li = []\n",
    "# all_files[0]\n",
    "# for filename in all_files:\n",
    "#     df = pd.read_csv(filename)\n",
    "#     li.append(df)\n",
    "# listings_all = pd.concat(li, axis=0, ignore_index=True)"
   ]
  },
  {
   "cell_type": "code",
   "execution_count": null,
   "metadata": {},
   "outputs": [],
   "source": [
    "# Doc2Vec Article: https://www.analyticsvidhya.com/blog/2020/08/top-4-sentence-embedding-techniques-using-python/\n",
    "# K-means Clustering: https://towardsdatascience.com/unsupervised-sentiment-analysis-a38bf1906483\n",
    "# BERT Explanation: https://towardsdatascience.com/bert-explained-state-of-the-art-language-model-for-nlp-f8b21a9b6270"
   ]
  },
  {
   "cell_type": "code",
   "execution_count": 136,
   "metadata": {},
   "outputs": [],
   "source": [
    "tokenized_reviews = []\n",
    "for review in reviews['comments'][:100000]:\n",
    "    tokenized_reviews.append(word_tokenize(review.lower()))\n",
    "\n",
    "tagged_data = [TaggedDocument(d, [i]) for i, d in enumerate(tokenized_reviews)]"
   ]
  },
  {
   "cell_type": "code",
   "execution_count": 137,
   "metadata": {},
   "outputs": [],
   "source": [
    "d2v_model = Doc2Vec(tagged_data, vector_size = 256, window = 5, min_count = 1, epochs = 30)"
   ]
  },
  {
   "cell_type": "code",
   "execution_count": 138,
   "metadata": {},
   "outputs": [
    {
     "data": {
      "text/plain": [
       "[(0, 0.6475984454154968),\n",
       " (6029, 0.49589163064956665),\n",
       " (27972, 0.4786129593849182),\n",
       " (69536, 0.4771136939525604),\n",
       " (92061, 0.46034106612205505),\n",
       " (99126, 0.45918145775794983),\n",
       " (57014, 0.4540438652038574),\n",
       " (65756, 0.4497096836566925),\n",
       " (39191, 0.44685259461402893),\n",
       " (26148, 0.44654518365859985)]"
      ]
     },
     "execution_count": 138,
     "metadata": {},
     "output_type": "execute_result"
    }
   ],
   "source": [
    "# See similar reviews to the first review\n",
    "test_doc = word_tokenize(reviews['comments'].iloc[0].lower())\n",
    "test_doc_vector = d2v_model.infer_vector(test_doc)\n",
    "closest_rev_idx = [i[0] for i in d2v_model.dv.most_similar(positive = [test_doc_vector])]\n",
    "d2v_model.dv.most_similar(positive = [test_doc_vector])"
   ]
  },
  {
   "cell_type": "code",
   "execution_count": 139,
   "metadata": {},
   "outputs": [
    {
     "name": "stdout",
     "output_type": "stream",
     "text": [
      "I stayed here during SXSW and had a really pleasant stay.  The house is a very relaxing environment and Paddy is both a friendly and professional host. \n",
      "\n",
      "I stayed here during SXSW and had a really pleasant stay.  The house is a very relaxing environment and Paddy is both a friendly and professional host. \n",
      "\n",
      "Alyson was very cordial and went above and beyond my expectations.  It's a must stay if you are in the Austin area.  Thanks Alyson!\r\n",
      "\n",
      "\n",
      "The space is great for 1-2 travelers. I really liked the kitchen amenities and cutlery. You have all the utensils needed to prepare a meal. There's a stove-top, oven and toaster. The space is clean and efficient. One thing to keep in mind is the toilet seat is on a 1 foot high pedestal. The shower is also on an 8-inch pedestal and it's super tiny. Not a deal breaker but just something to keep in mind.\n",
      "\n",
      "Transportation is not a problem because the bus stop is literally right outside the door. There are several restaurants about a 5 minute walk away and the nearest supermarket HEB is about a 10 minute walk. All the information you need regarding local tips and house rules are contained in a helpful binder on the coffee table. And if you need anything else Pete is extremely responsive!\n",
      "\n",
      "Katrina’s place is very well decorated , clean and has personality. I appreciated her being available by phone when we needed her and communication prior was great. Her place was close to where we were going and also walking distance to some bars and eateries.  Parking available in garage and street which is nice. Overall great stay!\n",
      "\n",
      "Geoff's guest house was comfortable, well-decorated, conveniently located, and reasonably priced. I did encounter a couple minor issues during my stay (ants wandering into the room and 2 1-hour wifi outages), but Geoff went above and beyond as a host to resolve them!\n",
      "\n",
      "Great place to stay! Very hospitable and so close to downtown!\n",
      "\n",
      "Beautiful apartment! Kristine was very nice and speedy with communication.\n",
      "\n",
      "This space was awesome. I really loved sitting out on the deck and relaxing. It had everything I needed and then some but not too much! I would definitely stay here again next time I'm in Austin!\n",
      "\n",
      "Amazing spot at the heart of Austin!\n",
      "\n",
      "This was a lovely space that was perfect for our family on our road trip. Close in, great pool to enjoy close by, and cool comfortable place sleep for all seven of us.\n",
      "\n"
     ]
    }
   ],
   "source": [
    "print(reviews['comments'][0] + \"\\n\")\n",
    "for i in range(len(closest_rev_idx)):\n",
    "    print(reviews['comments'][closest_rev_idx[i]] + \"\\n\")\n"
   ]
  },
  {
   "cell_type": "code",
   "execution_count": 153,
   "metadata": {},
   "outputs": [],
   "source": [
    "# Use K means cluster to get 2 clusters\n",
    "k_means_model = KMeans(n_clusters=2, max_iter=1000, n_init=50).fit(X=d2v_model.dv.vectors)\n",
    "positive_cluster_center = k_means_model.cluster_centers_[0]\n",
    "negative_cluster_center = k_means_model.cluster_centers_[1]"
   ]
  },
  {
   "cell_type": "code",
   "execution_count": 165,
   "metadata": {},
   "outputs": [
    {
     "data": {
      "text/plain": [
       "[(86986, 0.9757398366928101),\n",
       " (33482, 0.9732855558395386),\n",
       " (15111, 0.9721434116363525),\n",
       " (30683, 0.9714634418487549),\n",
       " (67340, 0.9710773825645447),\n",
       " (49995, 0.9703632593154907),\n",
       " (70734, 0.9697659611701965),\n",
       " (82977, 0.9697076678276062),\n",
       " (79107, 0.9695924520492554),\n",
       " (77920, 0.9694435000419617)]"
      ]
     },
     "execution_count": 165,
     "metadata": {},
     "output_type": "execute_result"
    }
   ],
   "source": [
    "top_clust_0_rev_idx = [i[0] for i in d2v_model.dv.similar_by_vector(k_means_model.cluster_centers_[0], topn=10, restrict_vocab=None)]\n",
    "d2v_model.dv.similar_by_vector(k_means_model.cluster_centers_[0], topn=10, restrict_vocab=None)"
   ]
  },
  {
   "cell_type": "code",
   "execution_count": 166,
   "metadata": {},
   "outputs": [
    {
     "name": "stdout",
     "output_type": "stream",
     "text": [
      "The upstairs living area and upstairs bedrooms (2x) are beautifully presented, with chic, designer furniture. It's a very new town house, with new fittings etc. Dealing with the host was smooth, and her friend was available bang on time to let us in and help us check-in. However, the 3rd bedroom was not depicted - it's not really adequate other than for emergencies. The host should add photos of this third bedroom for transparency. The neighborhood is also quite dodgy. There are quite a lot of drug addicts, homeless people and what look like some street gangs congregating on nearby corners at night. I guess it depends on what your experience has been like in life, but certainly coming from Australia, this was quite an eyeopening experience for us. If you only need 2 bedrooms, and accept that the neighborhood is quite dodgy, then this would a good place to stay.\n",
      "\n",
      "Great house for larger groups. Close to downtown.  Place was very clean and perfect for the bachelor party we were on.  \n",
      "\n",
      "Amit was incredibly responsive to any questions we had. His place was very nice and clean. Checking in and out was super easy. And Amit has great recommendations of places to go, eat and things to see in Austin. I would highly recommend his rental for an Austin stay!\n",
      "\n",
      "The host canceled this reservation 14 days before arrival. This is an automated posting.\n",
      "\n",
      "Amina's place was fabulous! Extremely clean, with everything you needed inside.  I especially liked the binder that was on the kitchen counter which listed things to do, locations for picnics, restaurants, etc. We were there only for a day but would have loved to stay longer.   Would highly recommend!!\n",
      "\n",
      "Cute cottage full of charm and comfort. Easy walking distance to local restaurants and fun activities. The neighborhood is quaint and very quiet.\n",
      "\n",
      "Amazing host that went above and beyond giving me a tour of the area and was great with communication. I would highly recommend his place. It’s close to a bunch of restaurants and walking distance to a ton of places. Uber’s to downtown and surrounding areas are super cheap. Also his place has a cute patio and living room which is not pictured. Feels homey!\n",
      "\n",
      "Donna's place is incredible! A tranquil and airy refuge that's walkable to downtown. Also close to great local bars, restaurants and shops. Totally safe and secure also. Will stay again!\n",
      "\n",
      "This was a quiet, clean and beautiful space.  The surroundings are lovely and the hosts are responsive and helpful.  I enjoyed having a washer/dryer available, wifi and coffee w fresh milk available!  \n",
      "\n",
      "This was a beautiful cottage in such a great location. It was walking distance from so many great thrift stores, restaurants and other funky places to walk around. I did not have a car but walked everywhere and took the bus downtown to the convention I was attending. \n",
      "\n"
     ]
    }
   ],
   "source": [
    "for i in range(len(top_clust_0_rev_idx)):\n",
    "    print(reviews['comments'][top_clust_0_rev_idx[i]] + \"\\n\")"
   ]
  },
  {
   "cell_type": "code",
   "execution_count": 150,
   "metadata": {},
   "outputs": [
    {
     "data": {
      "text/plain": [
       "[(38967, 0.9822460412979126),\n",
       " (76283, 0.9759654402732849),\n",
       " (47438, 0.9753592610359192),\n",
       " (5853, 0.9746848940849304),\n",
       " (70728, 0.9745059609413147),\n",
       " (76772, 0.9743836522102356),\n",
       " (49485, 0.9743115901947021),\n",
       " (91646, 0.9739499092102051),\n",
       " (42364, 0.9736538529396057),\n",
       " (98709, 0.9735928773880005)]"
      ]
     },
     "execution_count": 150,
     "metadata": {},
     "output_type": "execute_result"
    }
   ],
   "source": [
    "top_clust_1_rev_idx = [i[0] for i in d2v_model.dv.similar_by_vector(k_means_model.cluster_centers_[1], topn=10, restrict_vocab=None)]\n",
    "d2v_model.dv.similar_by_vector(k_means_model.cluster_centers_[1], topn=10, restrict_vocab=None)"
   ]
  },
  {
   "cell_type": "code",
   "execution_count": 151,
   "metadata": {},
   "outputs": [
    {
     "name": "stdout",
     "output_type": "stream",
     "text": [
      "We had the absolute best time staying at this air bnb. It had everything we needed, was very clean, well stocked and decorated perfectly. It was a perfect location to everything and felt safe to walk home to. We had plenty of space there being 6 of us and the fun backyard was a great bonus as well. \n",
      "\n",
      "A++\n",
      "\n",
      "Gorgeous house that style wise looks very Austin-y with nice decor. There's a separate guest house in the back is very nice with it's own bathroom, two additional bedrooms in the main house share a bathroom. House had everything we needed for a relaxing weekend trip!\n",
      "\n",
      "Krista was an excellent host. Good comfortable detached apartment in an excellent neighborhood, within a couple minutes to downtown or south congress. Highly recommend. \n",
      "\n",
      "Wonderful location. Amazing backyard. Clean and well kept. Charming home perfect for a weekend getaway\n",
      "\n",
      "The house was located in a great location! Easy to walk to any restaurant in SoCo. The secure backyard was a bonus for the toddlers we were traveling with. Great house and was just like the pictures!\n",
      "\n",
      "This place is fantastic! I would definitely stay here again. The location is unbeatable, you're right in the middle of downtown and can walk to everything.\n",
      "\n",
      "attentive host\n",
      "\n",
      "Great place to stay, Terry was an excellent host and everything was perfectly as advertised. Highly recommend\n",
      "\n",
      "The only complaint I have is that we didn’t book more time here! All good energy—from checkin to location to overall feel and design, super super clean & had absolutely everything you need with an effortless, upscale feeling overall. We loved toasting some bread, making a coffee, watching a show, walking our pup around the hood and our daughters really loved the big bathtub. I would like to add that the host was really attentive & kind when I had some questions. Parking was easy, yard was great, fridge worked well and fun board games were available. This spot will be our go-to for future atx stays!\n",
      "\n"
     ]
    }
   ],
   "source": [
    "for i in range(len(top_clust_1_rev_idx)):\n",
    "    print(reviews['comments'][top_clust_1_rev_idx[i]] + \"\\n\")"
   ]
  },
  {
   "cell_type": "code",
   "execution_count": 152,
   "metadata": {},
   "outputs": [
    {
     "data": {
      "text/plain": [
       "array([[0.9396877]], dtype=float32)"
      ]
     },
     "execution_count": 152,
     "metadata": {},
     "output_type": "execute_result"
    }
   ],
   "source": [
    "cosine_similarity(k_means_model.cluster_centers_[0].reshape(1,-1), k_means_model.cluster_centers_[1].reshape(1,-1))"
   ]
  },
  {
   "cell_type": "code",
   "execution_count": null,
   "metadata": {},
   "outputs": [],
   "source": [
    "review_scores = pd.DataFrame(d2v_model.dv.vocab.keys())\n",
    "review_scores.columns = ['reviews']\n",
    "# review_scores['vectors'] = review_scores.words.apply(lambda x: word_vectors.wv[f'{x}'])\n",
    "# review_scroes['cluster'] = words.vectors.apply(lambda x: model.predict([np.array(x)]))\n",
    "# review_scores.cluster = words.cluster.apply(lambda x: x[0])\n",
    "# review_scores['cluster_value'] = [1 if i==0 else -1 for i in words.cluster]\n",
    "# review_scores['closeness_score'] = words.apply(lambda x: 1/(model.transform([x.vectors]).min()), axis=1)\n",
    "# review_scores['sentiment_coeff'] = words.closeness_score * words.cluster_value\n",
    "review_scores"
   ]
  }
 ],
 "metadata": {
  "kernelspec": {
   "display_name": "Python 3",
   "language": "python",
   "name": "python3"
  },
  "language_info": {
   "codemirror_mode": {
    "name": "ipython",
    "version": 3
   },
   "file_extension": ".py",
   "mimetype": "text/x-python",
   "name": "python",
   "nbconvert_exporter": "python",
   "pygments_lexer": "ipython3",
   "version": "3.7.6"
  }
 },
 "nbformat": 4,
 "nbformat_minor": 4
}
